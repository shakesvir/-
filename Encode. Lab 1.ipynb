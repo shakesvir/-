{
 "cells": [
  {
   "cell_type": "code",
   "execution_count": 1,
   "id": "f24cadcd",
   "metadata": {},
   "outputs": [],
   "source": [
    "import pandas as pd\n",
    "import random"
   ]
  },
  {
   "cell_type": "markdown",
   "id": "3304c374",
   "metadata": {},
   "source": [
    "## Задание 1. Протокол Диффи-Хеллмана"
   ]
  },
  {
   "cell_type": "markdown",
   "id": "03500d98",
   "metadata": {},
   "source": [
    "Создаем датафрейм, где будут храниться данные по каждому из пользователей: Alice и Bob. Для присовения значений воспользуемся рандомом.\n",
    "Примечание. Значения p и g для Alice и Bob присваивается одинаковое рандомное значение"
   ]
  },
  {
   "cell_type": "code",
   "execution_count": 2,
   "id": "606ee506",
   "metadata": {},
   "outputs": [],
   "source": [
    "d = pd.DataFrame({'Person':['Alice', 'Bob'], 'p' : [random.randint(10,101)]*2, 'g' : [random.randint(2,11)]*2, 'secret_digit' : [random.randint(2,10), random.randint(2,10)]})"
   ]
  },
  {
   "cell_type": "markdown",
   "id": "e09b1aa6",
   "metadata": {},
   "source": [
    "<b>p</b> и <b>g</b> успешно присвоили одинаковые рандомные числа Alice и Bob, а <b>secret_digit</b> у каждого пользователя индивидуальный"
   ]
  },
  {
   "cell_type": "code",
   "execution_count": 3,
   "id": "e8b10fbd",
   "metadata": {
    "scrolled": true
   },
   "outputs": [
    {
     "data": {
      "text/html": [
       "<div>\n",
       "<style scoped>\n",
       "    .dataframe tbody tr th:only-of-type {\n",
       "        vertical-align: middle;\n",
       "    }\n",
       "\n",
       "    .dataframe tbody tr th {\n",
       "        vertical-align: top;\n",
       "    }\n",
       "\n",
       "    .dataframe thead th {\n",
       "        text-align: right;\n",
       "    }\n",
       "</style>\n",
       "<table border=\"1\" class=\"dataframe\">\n",
       "  <thead>\n",
       "    <tr style=\"text-align: right;\">\n",
       "      <th></th>\n",
       "      <th>Person</th>\n",
       "      <th>p</th>\n",
       "      <th>g</th>\n",
       "      <th>secret_digit</th>\n",
       "    </tr>\n",
       "  </thead>\n",
       "  <tbody>\n",
       "    <tr>\n",
       "      <th>0</th>\n",
       "      <td>Alice</td>\n",
       "      <td>21</td>\n",
       "      <td>5</td>\n",
       "      <td>6</td>\n",
       "    </tr>\n",
       "    <tr>\n",
       "      <th>1</th>\n",
       "      <td>Bob</td>\n",
       "      <td>21</td>\n",
       "      <td>5</td>\n",
       "      <td>5</td>\n",
       "    </tr>\n",
       "  </tbody>\n",
       "</table>\n",
       "</div>"
      ],
      "text/plain": [
       "  Person   p  g  secret_digit\n",
       "0  Alice  21  5             6\n",
       "1    Bob  21  5             5"
      ]
     },
     "execution_count": 3,
     "metadata": {},
     "output_type": "execute_result"
    }
   ],
   "source": [
    "d"
   ]
  },
  {
   "cell_type": "markdown",
   "id": "1b54b739",
   "metadata": {},
   "source": [
    "Подсчитаем в столбец <b>А and B</b> значение для передачи собеседнику согласно формуле:"
   ]
  },
  {
   "cell_type": "code",
   "execution_count": 4,
   "id": "d19acfab",
   "metadata": {},
   "outputs": [],
   "source": [
    "d['A and B'] = d.g ** d.secret_digit % d.p"
   ]
  },
  {
   "cell_type": "markdown",
   "id": "335cfc22",
   "metadata": {},
   "source": [
    "Посмотрим, что получилось"
   ]
  },
  {
   "cell_type": "code",
   "execution_count": 5,
   "id": "44044a1d",
   "metadata": {},
   "outputs": [
    {
     "data": {
      "text/html": [
       "<div>\n",
       "<style scoped>\n",
       "    .dataframe tbody tr th:only-of-type {\n",
       "        vertical-align: middle;\n",
       "    }\n",
       "\n",
       "    .dataframe tbody tr th {\n",
       "        vertical-align: top;\n",
       "    }\n",
       "\n",
       "    .dataframe thead th {\n",
       "        text-align: right;\n",
       "    }\n",
       "</style>\n",
       "<table border=\"1\" class=\"dataframe\">\n",
       "  <thead>\n",
       "    <tr style=\"text-align: right;\">\n",
       "      <th></th>\n",
       "      <th>Person</th>\n",
       "      <th>p</th>\n",
       "      <th>g</th>\n",
       "      <th>secret_digit</th>\n",
       "      <th>A and B</th>\n",
       "    </tr>\n",
       "  </thead>\n",
       "  <tbody>\n",
       "    <tr>\n",
       "      <th>0</th>\n",
       "      <td>Alice</td>\n",
       "      <td>21</td>\n",
       "      <td>5</td>\n",
       "      <td>6</td>\n",
       "      <td>1</td>\n",
       "    </tr>\n",
       "    <tr>\n",
       "      <th>1</th>\n",
       "      <td>Bob</td>\n",
       "      <td>21</td>\n",
       "      <td>5</td>\n",
       "      <td>5</td>\n",
       "      <td>17</td>\n",
       "    </tr>\n",
       "  </tbody>\n",
       "</table>\n",
       "</div>"
      ],
      "text/plain": [
       "  Person   p  g  secret_digit  A and B\n",
       "0  Alice  21  5             6        1\n",
       "1    Bob  21  5             5       17"
      ]
     },
     "execution_count": 5,
     "metadata": {},
     "output_type": "execute_result"
    }
   ],
   "source": [
    "d"
   ]
  },
  {
   "cell_type": "markdown",
   "id": "1341408c",
   "metadata": {},
   "source": [
    "Извлечем значения секретных кодов из нашего датафрейма"
   ]
  },
  {
   "cell_type": "code",
   "execution_count": 6,
   "id": "0279340a",
   "metadata": {},
   "outputs": [
    {
     "data": {
      "text/plain": [
       "1"
      ]
     },
     "execution_count": 6,
     "metadata": {},
     "output_type": "execute_result"
    }
   ],
   "source": [
    "Alice_secret = d.iloc[0]['A and B']\n",
    "Alice_secret"
   ]
  },
  {
   "cell_type": "code",
   "execution_count": 7,
   "id": "065c3b82",
   "metadata": {},
   "outputs": [
    {
     "data": {
      "text/plain": [
       "17"
      ]
     },
     "execution_count": 7,
     "metadata": {},
     "output_type": "execute_result"
    }
   ],
   "source": [
    "Bob_secret = d.iloc[1]['A and B']\n",
    "Bob_secret"
   ]
  },
  {
   "cell_type": "markdown",
   "id": "72eba69b",
   "metadata": {},
   "source": [
    "Воспользуемся формулой для нахождения общего ключа между Alice и Bob. Если мы сделали все верно, то их <b>s</b> должны быть равны"
   ]
  },
  {
   "cell_type": "code",
   "execution_count": 8,
   "id": "57fed9d1",
   "metadata": {},
   "outputs": [],
   "source": [
    "d['s'] = [Bob_secret ** d.loc[0]['secret_digit'] % d.loc[0]['p'], Alice_secret ** d.loc[1]['secret_digit'] % d.loc[1]['p']]"
   ]
  },
  {
   "cell_type": "markdown",
   "id": "9351959f",
   "metadata": {},
   "source": [
    "Видим результат:"
   ]
  },
  {
   "cell_type": "code",
   "execution_count": 9,
   "id": "eba34b4d",
   "metadata": {},
   "outputs": [
    {
     "data": {
      "text/html": [
       "<div>\n",
       "<style scoped>\n",
       "    .dataframe tbody tr th:only-of-type {\n",
       "        vertical-align: middle;\n",
       "    }\n",
       "\n",
       "    .dataframe tbody tr th {\n",
       "        vertical-align: top;\n",
       "    }\n",
       "\n",
       "    .dataframe thead th {\n",
       "        text-align: right;\n",
       "    }\n",
       "</style>\n",
       "<table border=\"1\" class=\"dataframe\">\n",
       "  <thead>\n",
       "    <tr style=\"text-align: right;\">\n",
       "      <th></th>\n",
       "      <th>Person</th>\n",
       "      <th>p</th>\n",
       "      <th>g</th>\n",
       "      <th>secret_digit</th>\n",
       "      <th>A and B</th>\n",
       "      <th>s</th>\n",
       "    </tr>\n",
       "  </thead>\n",
       "  <tbody>\n",
       "    <tr>\n",
       "      <th>0</th>\n",
       "      <td>Alice</td>\n",
       "      <td>21</td>\n",
       "      <td>5</td>\n",
       "      <td>6</td>\n",
       "      <td>1</td>\n",
       "      <td>1</td>\n",
       "    </tr>\n",
       "    <tr>\n",
       "      <th>1</th>\n",
       "      <td>Bob</td>\n",
       "      <td>21</td>\n",
       "      <td>5</td>\n",
       "      <td>5</td>\n",
       "      <td>17</td>\n",
       "      <td>1</td>\n",
       "    </tr>\n",
       "  </tbody>\n",
       "</table>\n",
       "</div>"
      ],
      "text/plain": [
       "  Person   p  g  secret_digit  A and B  s\n",
       "0  Alice  21  5             6        1  1\n",
       "1    Bob  21  5             5       17  1"
      ]
     },
     "execution_count": 9,
     "metadata": {},
     "output_type": "execute_result"
    }
   ],
   "source": [
    "d"
   ]
  },
  {
   "cell_type": "markdown",
   "id": "739e9a22",
   "metadata": {},
   "source": [
    "## Задание 2. Шифр Цезаря"
   ]
  },
  {
   "cell_type": "markdown",
   "id": "769d310d",
   "metadata": {},
   "source": [
    "Присвоим общий секретный ключ из прошлого задания в <b>secret_key</b>"
   ]
  },
  {
   "cell_type": "code",
   "execution_count": 10,
   "id": "4206c0e3",
   "metadata": {},
   "outputs": [],
   "source": [
    "secret_key = d.loc[0]['s']"
   ]
  },
  {
   "cell_type": "code",
   "execution_count": 11,
   "id": "9312fcd3",
   "metadata": {},
   "outputs": [],
   "source": [
    "text = 'какой весёлый день'"
   ]
  },
  {
   "cell_type": "markdown",
   "id": "b9059511",
   "metadata": {},
   "source": [
    "Создадим функцию для шифрования, передав секретный ключ и строку для шифровки"
   ]
  },
  {
   "cell_type": "code",
   "execution_count": 12,
   "id": "5c0fe876",
   "metadata": {},
   "outputs": [],
   "source": [
    "def shifr (n, a):\n",
    "    for i in a:\n",
    "        if ord(i)==1105:\n",
    "            i='е'\n",
    "        if ord(i)!=32:\n",
    "            k = ord(i)-n\n",
    "            if k < 1072:\n",
    "                k = k + 31\n",
    "            print(chr(k), end = '')\n",
    "        else:\n",
    "            print(' ', end='')"
   ]
  },
  {
   "cell_type": "markdown",
   "id": "eaffd25b",
   "metadata": {},
   "source": [
    "Вызываем функцию и получаем зашифрованный текст"
   ]
  },
  {
   "cell_type": "code",
   "execution_count": 13,
   "id": "f075331e",
   "metadata": {},
   "outputs": [
    {
     "name": "stdout",
     "output_type": "stream",
     "text": [
      "йюйни бдрдкъи гдмы"
     ]
    }
   ],
   "source": [
    "shifr(secret_key, text)"
   ]
  }
 ],
 "metadata": {
  "kernelspec": {
   "display_name": "Python 3 (ipykernel)",
   "language": "python",
   "name": "python3"
  },
  "language_info": {
   "codemirror_mode": {
    "name": "ipython",
    "version": 3
   },
   "file_extension": ".py",
   "mimetype": "text/x-python",
   "name": "python",
   "nbconvert_exporter": "python",
   "pygments_lexer": "ipython3",
   "version": "3.9.7"
  }
 },
 "nbformat": 4,
 "nbformat_minor": 5
}
